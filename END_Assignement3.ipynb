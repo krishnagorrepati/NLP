{
  "nbformat": 4,
  "nbformat_minor": 0,
  "metadata": {
    "colab": {
      "name": "END_Assignement3.ipynb",
      "provenance": [],
      "collapsed_sections": [],
      "authorship_tag": "ABX9TyMNVMyFuAT+XSY91t1OCYr/",
      "include_colab_link": true
    },
    "kernelspec": {
      "name": "python3",
      "display_name": "Python 3"
    },
    "accelerator": "GPU"
  },
  "cells": [
    {
      "cell_type": "markdown",
      "metadata": {
        "id": "view-in-github",
        "colab_type": "text"
      },
      "source": [
        "<a href=\"https://colab.research.google.com/github/krishnagorrepati/NLP/blob/main/END_Assignement3.ipynb\" target=\"_parent\"><img src=\"https://colab.research.google.com/assets/colab-badge.svg\" alt=\"Open In Colab\"/></a>"
      ]
    },
    {
      "cell_type": "code",
      "metadata": {
        "id": "WcEhlQjecQhX",
        "outputId": "4cfe7793-2fc8-4490-cf61-ee9ecabc3d15",
        "colab": {
          "base_uri": "https://localhost:8080/"
        }
      },
      "source": [
        "!python --version"
      ],
      "execution_count": 1,
      "outputs": [
        {
          "output_type": "stream",
          "text": [
            "Python 3.6.9\n"
          ],
          "name": "stdout"
        }
      ]
    },
    {
      "cell_type": "markdown",
      "metadata": {
        "id": "dkfCPrNCwexc"
      },
      "source": [
        "# Question 1. Write a function using only list filter lambda that can tell whether a number is a Fibonacci number or not. You can use a pre-calculated list/dict to store fab numbers till 10000 PTS:100"
      ]
    },
    {
      "cell_type": "code",
      "metadata": {
        "id": "wps-EmRuhZAS",
        "outputId": "76ae67f9-5540-4417-e41b-5ad1e0f53508",
        "colab": {
          "base_uri": "https://localhost:8080/"
        }
      },
      "source": [
        "max_limit = 10000\n",
        "n1, n2 = 0, 1\n",
        "Fiblist=[]\n",
        "while n1 <= max_limit:\n",
        "  Fiblist.append(n1)\n",
        "  new_no = n1+n2\n",
        "  n1=n2\n",
        "  n2=new_no\n",
        "\n",
        "validateFibonacci =lambda value : value in Fiblist  \n",
        "\n",
        "\n",
        "input = 3\n",
        "if(validateFibonacci(input)):\n",
        "  print(f\"{input} is Fibonacci number in the range of {max_limit}\")\n",
        "else:\n",
        "  print(f\"{input} is NOT a Fibonacci number in the range of {max_limit}\")\n",
        "input = 10\n",
        "if(validateFibonacci(10)):\n",
        "  print(f\"{input} is Fibonacci number in the range of {max_limit}\")\n",
        "else:\n",
        "  print(f\"{input} is NOT a Fibonacci number in the range of {max_limit}\")"
      ],
      "execution_count": 7,
      "outputs": [
        {
          "output_type": "stream",
          "text": [
            "3 is Fibonacci number in the range of 10000\n",
            "10 is NOT a Fibonacci number in the range of 10000\n"
          ],
          "name": "stdout"
        }
      ]
    },
    {
      "cell_type": "markdown",
      "metadata": {
        "id": "bAhKrCKjzNsf"
      },
      "source": [
        "# Question 2. Using list comprehension (and zip/lambda/etc if required)\n",
        "\n",
        "Write five different expressions that:\n",
        "\n",
        "* add 2 iterables a and b such that a is even and b is odd\n",
        "\n",
        "\n",
        "\n"
      ]
    },
    {
      "cell_type": "code",
      "metadata": {
        "id": "Eu9DJwVCzILq",
        "outputId": "5e8c150d-8fc9-4222-cee6-b5f25a6d1844",
        "colab": {
          "base_uri": "https://localhost:8080/"
        }
      },
      "source": [
        "a=[1,2,3,4,5,6,7,8,9]\n",
        "b=[1,2,3,4,5,6,7,8,9]\n",
        "print(list(filter(lambda x: x%2==0, a))) # Even iterable\n",
        "print(list(filter(lambda y: y%2!=0, b))) # Odd Iterable\n",
        "result=list(map(sum,zip(filter(lambda x: x%2==0, a),filter(lambda y: y%2!=0, b))))\n",
        "print(result)"
      ],
      "execution_count": 11,
      "outputs": [
        {
          "output_type": "stream",
          "text": [
            "[2, 4, 6, 8]\n",
            "[1, 3, 5, 7, 9]\n",
            "[3, 7, 11, 15]\n"
          ],
          "name": "stdout"
        }
      ]
    },
    {
      "cell_type": "markdown",
      "metadata": {
        "id": "8xGDhhbN1Awe"
      },
      "source": [
        "* strips every vowel from a string provided (tsai>>t s)"
      ]
    },
    {
      "cell_type": "markdown",
      "metadata": {
        "id": "Bavr7p_p1Efk"
      },
      "source": [
        ""
      ]
    },
    {
      "cell_type": "code",
      "metadata": {
        "id": "hldxkaqx1q_h",
        "outputId": "ba6721fb-42f4-47e5-a74e-b3a4d15d1665",
        "colab": {
          "base_uri": "https://localhost:8080/"
        }
      },
      "source": [
        "string=\"tsAi\"\n",
        "# Using List Comprehension\n",
        "list_of_vowels=[\"a\",\"e\",\"i\",\"o\",\"u\"]\n",
        "final_str = ''.join([x for x in string.lower() if x not in list_of_vowels])\n",
        "print(final_str)\n",
        "\n",
        "# Using Lambda, filter\n",
        "final_str = lambda str : ''.join(filter(lambda x: x not in list_of_vowels, str.lower()))\n",
        "print(final_str(string))"
      ],
      "execution_count": 12,
      "outputs": [
        {
          "output_type": "stream",
          "text": [
            "ts\n",
            "ts\n"
          ],
          "name": "stdout"
        }
      ]
    },
    {
      "cell_type": "markdown",
      "metadata": {
        "id": "E-mx6Xzf2xxv"
      },
      "source": [
        "* acts like a ReLU function for a 1D array"
      ]
    },
    {
      "cell_type": "code",
      "metadata": {
        "id": "qxjxnl88204J",
        "outputId": "c5bdaa71-8793-41ce-87ec-740720890623",
        "colab": {
          "base_uri": "https://localhost:8080/"
        }
      },
      "source": [
        "input = [0,-1,1,5,-8,-7,-0.5,0.0,0.15,23]\n",
        "\n",
        "# Using List Comprehension\n",
        "output = [x if x >= 0 else 0 for x in input  ]\n",
        "print(output)\n",
        "\n",
        "# Using Lambda, filter\n",
        "output = lambda l : [x if x>0 else 0 for x in l]\n",
        "print(output(input))"
      ],
      "execution_count": 15,
      "outputs": [
        {
          "output_type": "stream",
          "text": [
            "[0, 0, 1, 5, 0, 0, 0, 0.0, 0.15, 23]\n",
            "[0, 0, 1, 5, 0, 0, 0, 0, 0.15, 23]\n"
          ],
          "name": "stdout"
        }
      ]
    },
    {
      "cell_type": "markdown",
      "metadata": {
        "id": "SYLfevxE3QWQ"
      },
      "source": [
        "* acts like a sigmoid function for a 1D array"
      ]
    },
    {
      "cell_type": "code",
      "metadata": {
        "id": "_EMwKAdk3USL",
        "outputId": "d775aeff-5447-4dba-f431-a145b2ee0d74",
        "colab": {
          "base_uri": "https://localhost:8080/"
        }
      },
      "source": [
        "import math\n",
        "input = [0,-1,1,5,-8,-7,-0.5,0.0,0.15,23]\n",
        "\n",
        "# Using List Comprehension\n",
        "output = [math.exp(x) / (math.exp(x)+1) for x in input]\n",
        "print(output)\n",
        "\n",
        "# Using Lambda\n",
        "output = lambda l : [1 / (1 + math.exp(-x)) for x in l]\n",
        "print(output(input))"
      ],
      "execution_count": 16,
      "outputs": [
        {
          "output_type": "stream",
          "text": [
            "[0.5, 0.2689414213699951, 0.7310585786300049, 0.9933071490757152, 0.00033535013046647816, 0.0009110511944006454, 0.37754066879814546, 0.5, 0.5374298453437495, 0.9999999998973812]\n",
            "[0.5, 0.2689414213699951, 0.7310585786300049, 0.9933071490757153, 0.0003353501304664781, 0.0009110511944006454, 0.3775406687981454, 0.5, 0.5374298453437496, 0.9999999998973812]\n"
          ],
          "name": "stdout"
        }
      ]
    },
    {
      "cell_type": "markdown",
      "metadata": {
        "id": "BfMkIDF63ed8"
      },
      "source": [
        "* takes a small character string and shifts all characters by 5 (handle boundary conditions) tsai>>yxfn"
      ]
    },
    {
      "cell_type": "code",
      "metadata": {
        "id": "20PcrBp43iYl",
        "outputId": "ab5eeaf4-8586-43b9-fe76-691064cdd755",
        "colab": {
          "base_uri": "https://localhost:8080/"
        }
      },
      "source": [
        "import string\n",
        "alphabets = string.ascii_lowercase\n",
        "output = lambda input : \"\".join([alphabets[(alphabets.index(x) + 5) % len(alphabets)] for x in input])\n",
        "\n",
        "input = \"tsai\"\n",
        "print(output(input))"
      ],
      "execution_count": 17,
      "outputs": [
        {
          "output_type": "stream",
          "text": [
            "yxfn\n"
          ],
          "name": "stdout"
        }
      ]
    },
    {
      "cell_type": "markdown",
      "metadata": {
        "id": "9fKwrlXU3sIr"
      },
      "source": [
        "# Question 3. A list comprehension expression that takes a ~200 word paragraph (write your own paragraph to check), and checks whether it has any of the swear words mentioned in https://github.com/RobertJGabriel/Google-profanity-words/blob/master/list.txt"
      ]
    },
    {
      "cell_type": "code",
      "metadata": {
        "id": "WC1iJbIq3vKp",
        "outputId": "7b190f9f-7da9-46f0-8d5f-1ec8fc78f39e",
        "colab": {
          "base_uri": "https://localhost:8080/"
        }
      },
      "source": [
        "!wget https://raw.githubusercontent.com/RobertJGabriel/Google-profanity-words/master/list.txt -O swear_words\n",
        "with open(\"swear_words\", \"r\") as sw:\n",
        "    swear_words = [x.strip() for x in sw.readlines()]"
      ],
      "execution_count": 18,
      "outputs": [
        {
          "output_type": "stream",
          "text": [
            "--2020-11-05 14:46:07--  https://raw.githubusercontent.com/RobertJGabriel/Google-profanity-words/master/list.txt\n",
            "Resolving raw.githubusercontent.com (raw.githubusercontent.com)... 151.101.0.133, 151.101.64.133, 151.101.128.133, ...\n",
            "Connecting to raw.githubusercontent.com (raw.githubusercontent.com)|151.101.0.133|:443... connected.\n",
            "HTTP request sent, awaiting response... 200 OK\n",
            "Length: 3622 (3.5K) [text/plain]\n",
            "Saving to: ‘swear_words’\n",
            "\n",
            "\rswear_words           0%[                    ]       0  --.-KB/s               \rswear_words         100%[===================>]   3.54K  --.-KB/s    in 0s      \n",
            "\n",
            "2020-11-05 14:46:07 (45.8 MB/s) - ‘swear_words’ saved [3622/3622]\n",
            "\n"
          ],
          "name": "stdout"
        }
      ]
    },
    {
      "cell_type": "code",
      "metadata": {
        "id": "PNDglcNg38av",
        "outputId": "b134250a-5adc-4b8c-abfa-1c7bf7b6da96",
        "colab": {
          "base_uri": "https://localhost:8080/"
        }
      },
      "source": [
        "# Returns a Boolean Response\n",
        "check_list = lambda text : any([True for w in swear_words if w in text])\n",
        "\n",
        "# Returns a response with text displaying how many words found.\n",
        "check_list1 = lambda text : f\"Text contains {len([True for w in swear_words if w in text])} Swear Words.\" if len([True for w in swear_words if w in text]) > 0 else \"Text Does not contain any Swear words.\"\n",
        "\n",
        "text = \"\"\"As the billionaire Mistry clan and the Tata conglomerate head for a bitter split, they are already preparing for their next battle: the value of a stake in Tata Sons Pvt., which is at the center of India’s biggest corporate feud.\n",
        "The Mistry family-owned Shapoorji Pallonji Group holds 18.4% of the holding company of the software-to-trucks Tata empire, and wants to sell it and raise funds for its own cash-strapped businesses. It had previously sought to pledge the shares as collateral, but was blocked this week when Tata told the Supreme Court it was open to buying the stock itself if Mistrys needed money.\n",
        "But the focus of the years-long dispute could now shift to what each party thinks is the fair valuation of the stake. While court filings peg it at more than 1.5 trillion rupees ($20.3 billion), the eventual deal value will depend on which side can drive a hard bargain.\n",
        "The indebted SP Group, with upcoming debt maturities, may prefer a quick deal. Even at depressed valuations, it won’t be easy for the Tata Group or any other investor to fork out such a sum at a time when many economies, including India’s, have been ravaged by the coronavirus pandemic.\n",
        "“The parting of ways will lie in the details as it is not clear they will quickly agree to a valuation,” said Shriram Subramanian, founder of proxy advisory firm InGovern Research Services Pvt. in Bangalore. “Additionally, Tata group is in no hurry while the SP group is hard-pressed for funding.”.\"\"\"\n",
        "\n",
        "text1=\"what a fudge packer ass he is!\"\n",
        "\n",
        "print(check_list(text1))\n",
        "print(check_list1(text1))"
      ],
      "execution_count": 19,
      "outputs": [
        {
          "output_type": "stream",
          "text": [
            "True\n",
            "Text contains 2 Swear Words.\n"
          ],
          "name": "stdout"
        }
      ]
    },
    {
      "cell_type": "markdown",
      "metadata": {
        "id": "ZFAakp7_4TUL"
      },
      "source": [
        "#Question 4. Using reduce functions:\n",
        "* add only even numbers in a list"
      ]
    },
    {
      "cell_type": "code",
      "metadata": {
        "id": "yhZY9efC4Ra3",
        "outputId": "69af57f7-d3d7-4e46-bcd3-6ad3b5850d63",
        "colab": {
          "base_uri": "https://localhost:8080/"
        }
      },
      "source": [
        "from functools import reduce\n",
        "output = lambda inp : reduce(lambda x,y: x+y, filter(lambda x: x%2==0, inp))\n",
        "\n",
        "input = [10, 24, 35, 47, 58, 60]\n",
        "print(output(input))"
      ],
      "execution_count": 20,
      "outputs": [
        {
          "output_type": "stream",
          "text": [
            "152\n"
          ],
          "name": "stdout"
        }
      ]
    },
    {
      "cell_type": "markdown",
      "metadata": {
        "id": "ygREWDKt448h"
      },
      "source": [
        ""
      ]
    },
    {
      "cell_type": "markdown",
      "metadata": {
        "id": "Xc-S31Rf41Tb"
      },
      "source": [
        "* find the biggest character in a string (printable ascii characters)"
      ]
    },
    {
      "cell_type": "code",
      "metadata": {
        "id": "MQlnFve8462F",
        "outputId": "e552490d-3026-4716-b885-21d2e3748306",
        "colab": {
          "base_uri": "https://localhost:8080/"
        }
      },
      "source": [
        "output = lambda inp : reduce(lambda x,y: x if x > y else y, inp)\n",
        "\n",
        "input = \"Krishna\"\n",
        "print(output(input))"
      ],
      "execution_count": 22,
      "outputs": [
        {
          "output_type": "stream",
          "text": [
            "s\n"
          ],
          "name": "stdout"
        }
      ]
    },
    {
      "cell_type": "markdown",
      "metadata": {
        "id": "5mOXu0145ctM"
      },
      "source": [
        "* adds every 3rd number in a list"
      ]
    },
    {
      "cell_type": "code",
      "metadata": {
        "id": "nTiQiOhE5fRu",
        "outputId": "f929f906-2317-4af3-fba2-8c60877112a4",
        "colab": {
          "base_uri": "https://localhost:8080/"
        }
      },
      "source": [
        "output = lambda inp : reduce(lambda x,y: x+y, inp[2::3])\n",
        "\n",
        "input = [1,2,3,4,5,6,7,8,9,10,11,12]\n",
        "print(output(input))"
      ],
      "execution_count": 23,
      "outputs": [
        {
          "output_type": "stream",
          "text": [
            "30\n"
          ],
          "name": "stdout"
        }
      ]
    },
    {
      "cell_type": "markdown",
      "metadata": {
        "id": "-cCgSC4a5ttE"
      },
      "source": [
        "#Question 5. Using randint, random.choice and list comprehensions, write an expression that generates 15 random KADDAADDDD number plates, where KA is fixed, D stands for a digit, and A stands for Capital alphabets. 10<<DD<<99 & 1000<<DDDD<<9999"
      ]
    },
    {
      "cell_type": "code",
      "metadata": {
        "id": "hrjw56NF5xW7",
        "outputId": "1a9af7a7-58f6-4ee4-dc48-d9bf6609e2f3",
        "colab": {
          "base_uri": "https://localhost:8080/"
        }
      },
      "source": [
        "import random\n",
        "\n",
        "output = lambda number_of_plates: ['KA' + str(random.randint(10,99)) + str(\"\".join(random.choice(string.ascii_uppercase) for k in range(2))) + str(random.randint(1000,9999)) for i in range(number_of_plates)]\n",
        "print(output(15))"
      ],
      "execution_count": 32,
      "outputs": [
        {
          "output_type": "stream",
          "text": [
            "['KA60KT7124', 'KA38GV8256', 'KA36LV4185', 'KA47XN5265', 'KA47UX1591', 'KA18NH5680', 'KA32FS8982', 'KA41VP3690', 'KA79IE6081', 'KA98GF8674', 'KA59YZ8468', 'KA57VV9001', 'KA23GR3745', 'KA78AO6751', 'KA17EX4937']\n"
          ],
          "name": "stdout"
        }
      ]
    },
    {
      "cell_type": "markdown",
      "metadata": {
        "id": "wVEOcaGY6Kvg"
      },
      "source": [
        "#Question 6. Write the above again from scratch where KA can be changed to DL, and 1000/9999 ranges can be provided."
      ]
    },
    {
      "cell_type": "code",
      "metadata": {
        "id": "pfeqI4cF6NgO",
        "outputId": "a186a9c2-21ef-4172-95f7-61811a784364",
        "colab": {
          "base_uri": "https://localhost:8080/"
        }
      },
      "source": [
        "import random\n",
        "output = lambda state, lower_range, upper_range, number_of_plates : [state + str(random.randint(10,99)) + str(\"\".join(random.choice(string.ascii_uppercase) for k in range(2))) + str(random.randint(lower_range,upper_range)) for i in range(number_of_plates)]\n",
        "\n",
        "print(output('DL',1000,9999,15))"
      ],
      "execution_count": 33,
      "outputs": [
        {
          "output_type": "stream",
          "text": [
            "['DL88BQ3516', 'DL73SM4527', 'DL98OO3730', 'DL64WH7792', 'DL75NW6516', 'DL59SW2578', 'DL53UY8783', 'DL17VR1026', 'DL81QP8036', 'DL82CC2060', 'DL47DN4973', 'DL54UQ4409', 'DL84JR7189', 'DL13BR1959', 'DL33ZF8848']\n"
          ],
          "name": "stdout"
        }
      ]
    }
  ]
}