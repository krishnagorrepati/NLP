{
  "nbformat": 4,
  "nbformat_minor": 0,
  "metadata": {
    "colab": {
      "name": "Model_2_AmbigQA.ipynb",
      "provenance": [],
      "collapsed_sections": [],
      "include_colab_link": true
    },
    "kernelspec": {
      "name": "python3",
      "display_name": "Python 3"
    },
    "accelerator": "GPU"
  },
  "cells": [
    {
      "cell_type": "markdown",
      "metadata": {
        "id": "view-in-github",
        "colab_type": "text"
      },
      "source": [
        "<a href=\"https://colab.research.google.com/github/krishnagorrepati/NLP/blob/main/Model_2_AmbigQA.ipynb\" target=\"_parent\"><img src=\"https://colab.research.google.com/assets/colab-badge.svg\" alt=\"Open In Colab\"/></a>"
      ]
    },
    {
      "cell_type": "markdown",
      "metadata": {
        "id": "0ivq1V0iO741"
      },
      "source": [
        "# Using Attention Model for testing Ambig QA"
      ]
    },
    {
      "cell_type": "code",
      "metadata": {
        "id": "jsGBin79PC2y"
      },
      "source": [
        "import numpy as np\n",
        "import pandas as pd \n",
        "import torch\n",
        "import torchtext\n",
        "import torch.nn as nn\n",
        "import torch.optim as optim\n",
        "import torch.nn.functional as F\n",
        "\n",
        "from torchtext.datasets import Multi30k\n",
        "from torchtext.data import Field, BucketIterator\n",
        "\n",
        "import spacy\n",
        "import numpy as np\n",
        "\n",
        "import random\n",
        "import math\n",
        "import time"
      ],
      "execution_count": null,
      "outputs": []
    },
    {
      "cell_type": "code",
      "metadata": {
        "colab": {
          "base_uri": "https://localhost:8080/"
        },
        "id": "mRDA_Y0AP3v5",
        "outputId": "c3e8002e-7241-4220-916b-22c87b6e4caa"
      },
      "source": [
        "#!git clone https://github.com/ishwarraja/END_NLP_P01/tree/main/ASG09/Data/ambignq.zip\n",
        "!unzip ambignq.zip"
      ],
      "execution_count": null,
      "outputs": [
        {
          "output_type": "stream",
          "text": [
            "Archive:  ambignq.zip\n",
            "replace LICENSE? [y]es, [n]o, [A]ll, [N]one, [r]ename: y\n",
            "  inflating: LICENSE                 \n",
            "  inflating: train.json              \n",
            "  inflating: dev.json                \n"
          ],
          "name": "stdout"
        }
      ]
    },
    {
      "cell_type": "code",
      "metadata": {
        "id": "BZmtc7FRPyF2"
      },
      "source": [
        "df = pd.read_json('train.json')"
      ],
      "execution_count": null,
      "outputs": []
    },
    {
      "cell_type": "code",
      "metadata": {
        "id": "iK2QT6UgQEmm"
      },
      "source": [
        "import json\n",
        "import csv\n",
        "\n",
        "with open('train.json') as json_file:\n",
        "  data = json.load(json_file)\n"
      ],
      "execution_count": null,
      "outputs": []
    },
    {
      "cell_type": "code",
      "metadata": {
        "colab": {
          "base_uri": "https://localhost:8080/",
          "height": 345
        },
        "id": "mrGCq_spRn2L",
        "outputId": "fb16e7b8-6ea7-40e9-c69c-d2808d2b995b"
      },
      "source": [
        "df = pd.read_json('train.json')\n",
        "#df.columns\n",
        "df.head(5)"
      ],
      "execution_count": null,
      "outputs": [
        {
          "output_type": "execute_result",
          "data": {
            "text/html": [
              "<div>\n",
              "<style scoped>\n",
              "    .dataframe tbody tr th:only-of-type {\n",
              "        vertical-align: middle;\n",
              "    }\n",
              "\n",
              "    .dataframe tbody tr th {\n",
              "        vertical-align: top;\n",
              "    }\n",
              "\n",
              "    .dataframe thead th {\n",
              "        text-align: right;\n",
              "    }\n",
              "</style>\n",
              "<table border=\"1\" class=\"dataframe\">\n",
              "  <thead>\n",
              "    <tr style=\"text-align: right;\">\n",
              "      <th></th>\n",
              "      <th>viewed_doc_titles</th>\n",
              "      <th>used_queries</th>\n",
              "      <th>annotations</th>\n",
              "      <th>nq_answer</th>\n",
              "      <th>id</th>\n",
              "      <th>nq_doc_title</th>\n",
              "      <th>question</th>\n",
              "    </tr>\n",
              "  </thead>\n",
              "  <tbody>\n",
              "    <tr>\n",
              "      <th>0</th>\n",
              "      <td>[The Simpsons]</td>\n",
              "      <td>[{'query': 'When did the simpsons first air on...</td>\n",
              "      <td>[{'type': 'multipleQAs', 'qaPairs': [{'questio...</td>\n",
              "      <td>[December 17 , 1989]</td>\n",
              "      <td>-4469503464110108160</td>\n",
              "      <td>The Simpsons</td>\n",
              "      <td>When did the simpsons first air on television?</td>\n",
              "    </tr>\n",
              "    <tr>\n",
              "      <th>1</th>\n",
              "      <td>[John Adams (miniseries)]</td>\n",
              "      <td>[{'query': 'John adams tv', 'results': [{'titl...</td>\n",
              "      <td>[{'type': 'singleAnswer', 'answer': ['David Mo...</td>\n",
              "      <td>[David Morse]</td>\n",
              "      <td>4790842463458965504</td>\n",
              "      <td>John Adams (miniseries)</td>\n",
              "      <td>Who played george washington in the john adams...</td>\n",
              "    </tr>\n",
              "    <tr>\n",
              "      <th>2</th>\n",
              "      <td>[Marriage age in the United States]</td>\n",
              "      <td>[{'query': 'legal age of marriage in usa', 're...</td>\n",
              "      <td>[{'type': 'multipleQAs', 'qaPairs': [{'questio...</td>\n",
              "      <td>[18, Nebraska ( 19 ), Mississippi ( 21 )]</td>\n",
              "      <td>-6631915997977101312</td>\n",
              "      <td>Age of marriage in the United States</td>\n",
              "      <td>What is the legal age of marriage in usa?</td>\n",
              "    </tr>\n",
              "    <tr>\n",
              "      <th>3</th>\n",
              "      <td>[Barefoot in the Park, Barefoot in the Park (f...</td>\n",
              "      <td>[{'query': 'Who starred in barefoot in the par...</td>\n",
              "      <td>[{'type': 'multipleQAs', 'qaPairs': [{'questio...</td>\n",
              "      <td>[Robert Redford, Elizabeth Ashley]</td>\n",
              "      <td>-3098213414945179648</td>\n",
              "      <td>Barefoot in the Park</td>\n",
              "      <td>Who starred in barefoot in the park on broadway?</td>\n",
              "    </tr>\n",
              "    <tr>\n",
              "      <th>4</th>\n",
              "      <td>[Timeline of the Manhattan Project, Manhattan ...</td>\n",
              "      <td>[{'query': 'When did the manhattan project beg...</td>\n",
              "      <td>[{'type': 'multipleQAs', 'qaPairs': [{'questio...</td>\n",
              "      <td>[From 1942 to 1946]</td>\n",
              "      <td>-927805218867163520</td>\n",
              "      <td>Timeline of the Manhattan Project</td>\n",
              "      <td>When did the manhattan project began and end?</td>\n",
              "    </tr>\n",
              "  </tbody>\n",
              "</table>\n",
              "</div>"
            ],
            "text/plain": [
              "                                   viewed_doc_titles  ...                                           question\n",
              "0                                     [The Simpsons]  ...     When did the simpsons first air on television?\n",
              "1                          [John Adams (miniseries)]  ...  Who played george washington in the john adams...\n",
              "2                [Marriage age in the United States]  ...          What is the legal age of marriage in usa?\n",
              "3  [Barefoot in the Park, Barefoot in the Park (f...  ...   Who starred in barefoot in the park on broadway?\n",
              "4  [Timeline of the Manhattan Project, Manhattan ...  ...      When did the manhattan project began and end?\n",
              "\n",
              "[5 rows x 7 columns]"
            ]
          },
          "metadata": {
            "tags": []
          },
          "execution_count": 43
        }
      ]
    },
    {
      "cell_type": "code",
      "metadata": {
        "colab": {
          "base_uri": "https://localhost:8080/"
        },
        "id": "A_lBVeX-amjC",
        "outputId": "6ca1d83b-3ddb-47f3-a91a-b82d40fda0e1"
      },
      "source": [
        "df.columns"
      ],
      "execution_count": null,
      "outputs": [
        {
          "output_type": "execute_result",
          "data": {
            "text/plain": [
              "Index(['viewed_doc_titles', 'used_queries', 'annotations', 'nq_answer', 'id',\n",
              "       'nq_doc_title', 'question'],\n",
              "      dtype='object')"
            ]
          },
          "metadata": {
            "tags": []
          },
          "execution_count": 44
        }
      ]
    },
    {
      "cell_type": "code",
      "metadata": {
        "id": "jlx8HFTMUvzc"
      },
      "source": [
        "data = df[['question','nq_answer']]\n",
        "data.to_csv('train_data.csv',index=False)\n",
        "#column_names = ['id','question','nq_answer','nq_doc_title']\n",
        "#data = df.reindex(columns= column_names)"
      ],
      "execution_count": null,
      "outputs": []
    },
    {
      "cell_type": "code",
      "metadata": {
        "colab": {
          "base_uri": "https://localhost:8080/",
          "height": 206
        },
        "id": "QONh85c5xfPE",
        "outputId": "3839371b-e568-4de0-beed-61b62aed97ee"
      },
      "source": [
        "df1 = pd.read_csv('train_data.csv')\n",
        "df1.head(5)"
      ],
      "execution_count": null,
      "outputs": [
        {
          "output_type": "execute_result",
          "data": {
            "text/html": [
              "<div>\n",
              "<style scoped>\n",
              "    .dataframe tbody tr th:only-of-type {\n",
              "        vertical-align: middle;\n",
              "    }\n",
              "\n",
              "    .dataframe tbody tr th {\n",
              "        vertical-align: top;\n",
              "    }\n",
              "\n",
              "    .dataframe thead th {\n",
              "        text-align: right;\n",
              "    }\n",
              "</style>\n",
              "<table border=\"1\" class=\"dataframe\">\n",
              "  <thead>\n",
              "    <tr style=\"text-align: right;\">\n",
              "      <th></th>\n",
              "      <th>question</th>\n",
              "      <th>nq_answer</th>\n",
              "    </tr>\n",
              "  </thead>\n",
              "  <tbody>\n",
              "    <tr>\n",
              "      <th>0</th>\n",
              "      <td>When did the simpsons first air on television?</td>\n",
              "      <td>['December 17 , 1989']</td>\n",
              "    </tr>\n",
              "    <tr>\n",
              "      <th>1</th>\n",
              "      <td>Who played george washington in the john adams...</td>\n",
              "      <td>['David Morse']</td>\n",
              "    </tr>\n",
              "    <tr>\n",
              "      <th>2</th>\n",
              "      <td>What is the legal age of marriage in usa?</td>\n",
              "      <td>['18', 'Nebraska ( 19 )', 'Mississippi ( 21 )']</td>\n",
              "    </tr>\n",
              "    <tr>\n",
              "      <th>3</th>\n",
              "      <td>Who starred in barefoot in the park on broadway?</td>\n",
              "      <td>['Robert Redford', 'Elizabeth Ashley']</td>\n",
              "    </tr>\n",
              "    <tr>\n",
              "      <th>4</th>\n",
              "      <td>When did the manhattan project began and end?</td>\n",
              "      <td>['From 1942 to 1946']</td>\n",
              "    </tr>\n",
              "  </tbody>\n",
              "</table>\n",
              "</div>"
            ],
            "text/plain": [
              "                                            question                                        nq_answer\n",
              "0     When did the simpsons first air on television?                           ['December 17 , 1989']\n",
              "1  Who played george washington in the john adams...                                  ['David Morse']\n",
              "2          What is the legal age of marriage in usa?  ['18', 'Nebraska ( 19 )', 'Mississippi ( 21 )']\n",
              "3   Who starred in barefoot in the park on broadway?           ['Robert Redford', 'Elizabeth Ashley']\n",
              "4      When did the manhattan project began and end?                            ['From 1942 to 1946']"
            ]
          },
          "metadata": {
            "tags": []
          },
          "execution_count": 46
        }
      ]
    },
    {
      "cell_type": "code",
      "metadata": {
        "colab": {
          "base_uri": "https://localhost:8080/",
          "height": 424
        },
        "id": "rbRFe0XqWMRM",
        "outputId": "2591ef20-dd6e-4edd-ca21-b1c3b6236433"
      },
      "source": [
        "data\n",
        "#data.dropna(how='any')"
      ],
      "execution_count": null,
      "outputs": [
        {
          "output_type": "execute_result",
          "data": {
            "text/html": [
              "<div>\n",
              "<style scoped>\n",
              "    .dataframe tbody tr th:only-of-type {\n",
              "        vertical-align: middle;\n",
              "    }\n",
              "\n",
              "    .dataframe tbody tr th {\n",
              "        vertical-align: top;\n",
              "    }\n",
              "\n",
              "    .dataframe thead th {\n",
              "        text-align: right;\n",
              "    }\n",
              "</style>\n",
              "<table border=\"1\" class=\"dataframe\">\n",
              "  <thead>\n",
              "    <tr style=\"text-align: right;\">\n",
              "      <th></th>\n",
              "      <th>question</th>\n",
              "      <th>nq_answer</th>\n",
              "    </tr>\n",
              "  </thead>\n",
              "  <tbody>\n",
              "    <tr>\n",
              "      <th>0</th>\n",
              "      <td>When did the simpsons first air on television?</td>\n",
              "      <td>[December 17 , 1989]</td>\n",
              "    </tr>\n",
              "    <tr>\n",
              "      <th>1</th>\n",
              "      <td>Who played george washington in the john adams...</td>\n",
              "      <td>[David Morse]</td>\n",
              "    </tr>\n",
              "    <tr>\n",
              "      <th>2</th>\n",
              "      <td>What is the legal age of marriage in usa?</td>\n",
              "      <td>[18, Nebraska ( 19 ), Mississippi ( 21 )]</td>\n",
              "    </tr>\n",
              "    <tr>\n",
              "      <th>3</th>\n",
              "      <td>Who starred in barefoot in the park on broadway?</td>\n",
              "      <td>[Robert Redford, Elizabeth Ashley]</td>\n",
              "    </tr>\n",
              "    <tr>\n",
              "      <th>4</th>\n",
              "      <td>When did the manhattan project began and end?</td>\n",
              "      <td>[From 1942 to 1946]</td>\n",
              "    </tr>\n",
              "    <tr>\n",
              "      <th>...</th>\n",
              "      <td>...</td>\n",
              "      <td>...</td>\n",
              "    </tr>\n",
              "    <tr>\n",
              "      <th>10031</th>\n",
              "      <td>When do the summer holidays start for schools?</td>\n",
              "      <td>[between late May and mid-June]</td>\n",
              "    </tr>\n",
              "    <tr>\n",
              "      <th>10032</th>\n",
              "      <td>Who is the band in the movie 10 things i hate ...</td>\n",
              "      <td>[Save Ferris]</td>\n",
              "    </tr>\n",
              "    <tr>\n",
              "      <th>10033</th>\n",
              "      <td>Who was the last person in the uk to be executed?</td>\n",
              "      <td>[1964]</td>\n",
              "    </tr>\n",
              "    <tr>\n",
              "      <th>10034</th>\n",
              "      <td>Who does wonder woman end up with in the comics?</td>\n",
              "      <td>[Steve Trevor]</td>\n",
              "    </tr>\n",
              "    <tr>\n",
              "      <th>10035</th>\n",
              "      <td>When were the first pair of jordans released?</td>\n",
              "      <td>[late 1984]</td>\n",
              "    </tr>\n",
              "  </tbody>\n",
              "</table>\n",
              "<p>10036 rows × 2 columns</p>\n",
              "</div>"
            ],
            "text/plain": [
              "                                                question                                  nq_answer\n",
              "0         When did the simpsons first air on television?                       [December 17 , 1989]\n",
              "1      Who played george washington in the john adams...                              [David Morse]\n",
              "2              What is the legal age of marriage in usa?  [18, Nebraska ( 19 ), Mississippi ( 21 )]\n",
              "3       Who starred in barefoot in the park on broadway?         [Robert Redford, Elizabeth Ashley]\n",
              "4          When did the manhattan project began and end?                        [From 1942 to 1946]\n",
              "...                                                  ...                                        ...\n",
              "10031     When do the summer holidays start for schools?            [between late May and mid-June]\n",
              "10032  Who is the band in the movie 10 things i hate ...                              [Save Ferris]\n",
              "10033  Who was the last person in the uk to be executed?                                     [1964]\n",
              "10034   Who does wonder woman end up with in the comics?                             [Steve Trevor]\n",
              "10035      When were the first pair of jordans released?                                [late 1984]\n",
              "\n",
              "[10036 rows x 2 columns]"
            ]
          },
          "metadata": {
            "tags": []
          },
          "execution_count": 47
        }
      ]
    },
    {
      "cell_type": "code",
      "metadata": {
        "id": "ODSia4UVClgF"
      },
      "source": [
        "TEXT = torchtext.data.Field(\n",
        "    tokenize='spacy',\n",
        "    lower=True,\n",
        "    init_token='<sos>', \n",
        "    eos_token='<eos>'\n",
        ")\n",
        "\n",
        "fields = [('question', TEXT), ('nq_answer', TEXT)]"
      ],
      "execution_count": null,
      "outputs": []
    },
    {
      "cell_type": "code",
      "metadata": {
        "colab": {
          "base_uri": "https://localhost:8080/"
        },
        "id": "gwWmkUGM3PKe",
        "outputId": "b2f0a048-c078-436b-cbda-96fce1cb23c2"
      },
      "source": [
        "# Create dataset\n",
        "start = time.time()\n",
        "dataset = torchtext.data.TabularDataset(\n",
        "    path='train_data.csv',\n",
        "    format='CSV',\n",
        "    fields=fields,\n",
        "    skip_header=True\n",
        ")\n",
        "end = time.time()\n",
        "print(f'Duration: {end - start}')"
      ],
      "execution_count": null,
      "outputs": [
        {
          "output_type": "stream",
          "text": [
            "Duration: 1.601811408996582\n"
          ],
          "name": "stdout"
        }
      ]
    },
    {
      "cell_type": "code",
      "metadata": {
        "colab": {
          "base_uri": "https://localhost:8080/"
        },
        "id": "z2LPTlTi3lZd",
        "outputId": "d72ac58d-c524-4ae7-86aa-514423d9ed47"
      },
      "source": [
        "# Train/val split\n",
        "train_data, valid_data = dataset.split(split_ratio=[0.85, 0.15])\n",
        "print(len(train_data), len(valid_data))"
      ],
      "execution_count": null,
      "outputs": [
        {
          "output_type": "stream",
          "text": [
            "8531 1505\n"
          ],
          "name": "stdout"
        }
      ]
    },
    {
      "cell_type": "code",
      "metadata": {
        "colab": {
          "base_uri": "https://localhost:8080/"
        },
        "id": "Xx8P9Mht3ldB",
        "outputId": "9d1a6eeb-2332-4f17-c387-f037d0c68b71"
      },
      "source": [
        "vars(train_data.examples[0])"
      ],
      "execution_count": null,
      "outputs": [
        {
          "output_type": "execute_result",
          "data": {
            "text/plain": [
              "{'nq_answer': ['[', \"'\", 'american', 'r&b', 'singer', 'sza', \"'\", ']'],\n",
              " 'question': ['who',\n",
              "  'sings',\n",
              "  'with',\n",
              "  'maroon',\n",
              "  '5',\n",
              "  'what',\n",
              "  'lovers',\n",
              "  'do',\n",
              "  '?']}"
            ]
          },
          "metadata": {
            "tags": []
          },
          "execution_count": 51
        }
      ]
    },
    {
      "cell_type": "code",
      "metadata": {
        "colab": {
          "base_uri": "https://localhost:8080/"
        },
        "id": "Uo_sCkDM3lhW",
        "outputId": "8b9e2cbd-dd5e-489c-fdf3-7aa7706ed80e"
      },
      "source": [
        "MAX_VOCAB_SIZE = 10_000\n",
        "\n",
        "TEXT.build_vocab(train_data, max_size=MAX_VOCAB_SIZE)\n",
        "\n",
        "print(f'Size of vocab: {len(TEXT.vocab)}')\n"
      ],
      "execution_count": null,
      "outputs": [
        {
          "output_type": "stream",
          "text": [
            "Size of vocab: 10004\n"
          ],
          "name": "stdout"
        }
      ]
    },
    {
      "cell_type": "code",
      "metadata": {
        "colab": {
          "base_uri": "https://localhost:8080/"
        },
        "id": "ciP27s-z3lkm",
        "outputId": "ac80f2f9-402d-4548-8f10-fdbaee99a49b"
      },
      "source": [
        "device = torch.device('cuda' if torch.cuda.is_available() else 'cpu')\n",
        "device"
      ],
      "execution_count": null,
      "outputs": [
        {
          "output_type": "execute_result",
          "data": {
            "text/plain": [
              "device(type='cuda')"
            ]
          },
          "metadata": {
            "tags": []
          },
          "execution_count": 53
        }
      ]
    },
    {
      "cell_type": "code",
      "metadata": {
        "id": "mDcuwn8A3lnr"
      },
      "source": [
        "BATCH_SIZE = 128\n",
        "\n",
        "train_iterator, valid_iterator = torchtext.data.BucketIterator.splits(\n",
        "    (train_data, valid_data),\n",
        "    batch_size = BATCH_SIZE,\n",
        "    sort_key=lambda x: len(x.question),\n",
        "    device = device\n",
        ")"
      ],
      "execution_count": null,
      "outputs": []
    },
    {
      "cell_type": "code",
      "metadata": {
        "id": "uuiOqj5s3lq5"
      },
      "source": [
        "class Encoder(nn.Module):\n",
        "    def __init__(self, input_dim, emb_dim, enc_hid_dim, dec_hid_dim, dropout):\n",
        "        super().__init__()\n",
        "        \n",
        "        self.embedding = nn.Embedding(input_dim, emb_dim)\n",
        "        \n",
        "        self.rnn = nn.GRU(emb_dim, enc_hid_dim, bidirectional = True)\n",
        "        \n",
        "        self.fc = nn.Linear(enc_hid_dim * 2, dec_hid_dim)\n",
        "        \n",
        "        self.dropout = nn.Dropout(dropout)\n",
        "        \n",
        "    def forward(self, src):\n",
        "        \n",
        "        #src = [src len, batch size]\n",
        "        \n",
        "        embedded = self.dropout(self.embedding(src))\n",
        "        \n",
        "        #embedded = [src len, batch size, emb dim]\n",
        "        \n",
        "        outputs, hidden = self.rnn(embedded)\n",
        "                \n",
        "        #outputs = [src len, batch size, hid dim * num directions]\n",
        "        #hidden = [n layers * num directions, batch size, hid dim]\n",
        "        \n",
        "        #hidden is stacked [forward_1, backward_1, forward_2, backward_2, ...]\n",
        "        #outputs are always from the last layer\n",
        "        \n",
        "        #hidden [-2, :, : ] is the last of the forwards RNN \n",
        "        #hidden [-1, :, : ] is the last of the backwards RNN\n",
        "        \n",
        "        #initial decoder hidden is final hidden state of the forwards and backwards \n",
        "        #  encoder RNNs fed through a linear layer\n",
        "        hidden = torch.tanh(self.fc(torch.cat((hidden[-2,:,:], hidden[-1,:,:]), dim = 1)))\n",
        "        \n",
        "        #outputs = [src len, batch size, enc hid dim * 2]\n",
        "        #hidden = [batch size, dec hid dim]\n",
        "        \n",
        "        return outputs, hidden"
      ],
      "execution_count": null,
      "outputs": []
    },
    {
      "cell_type": "code",
      "metadata": {
        "id": "S7Q1r036Jf5K"
      },
      "source": [
        "class Attention(nn.Module):\n",
        "    def __init__(self, enc_hid_dim, dec_hid_dim):\n",
        "        super().__init__()\n",
        "        \n",
        "        self.attn = nn.Linear((enc_hid_dim * 2) + dec_hid_dim, dec_hid_dim)\n",
        "        self.v = nn.Linear(dec_hid_dim, 1, bias = False)\n",
        "        \n",
        "    def forward(self, hidden, encoder_outputs):\n",
        "        \n",
        "        #hidden = [batch size, dec hid dim]\n",
        "        #encoder_outputs = [src len, batch size, enc hid dim * 2]\n",
        "        \n",
        "        batch_size = encoder_outputs.shape[1]\n",
        "        src_len = encoder_outputs.shape[0]\n",
        "        \n",
        "        #repeat decoder hidden state src_len times\n",
        "        hidden = hidden.unsqueeze(1).repeat(1, src_len, 1)\n",
        "        \n",
        "        encoder_outputs = encoder_outputs.permute(1, 0, 2)\n",
        "        \n",
        "        #hidden = [batch size, src len, dec hid dim]\n",
        "        #encoder_outputs = [batch size, src len, enc hid dim * 2]\n",
        "        \n",
        "        energy = torch.tanh(self.attn(torch.cat((hidden, encoder_outputs), dim = 2))) \n",
        "        \n",
        "        #energy = [batch size, src len, dec hid dim]\n",
        "\n",
        "        attention = self.v(energy).squeeze(2)\n",
        "        \n",
        "        #attention= [batch size, src len]\n",
        "        \n",
        "        return F.softmax(attention, dim=1)"
      ],
      "execution_count": null,
      "outputs": []
    },
    {
      "cell_type": "code",
      "metadata": {
        "id": "YkmTLmbO5tUf"
      },
      "source": [
        "class Decoder(nn.Module):\n",
        "    def __init__(self, output_dim, emb_dim, enc_hid_dim, dec_hid_dim, dropout, attention):\n",
        "        super().__init__()\n",
        "\n",
        "        self.output_dim = output_dim\n",
        "        self.attention = attention\n",
        "        \n",
        "        self.embedding = nn.Embedding(output_dim, emb_dim)\n",
        "        \n",
        "        self.rnn = nn.GRU((enc_hid_dim * 2) + emb_dim, dec_hid_dim)\n",
        "        \n",
        "        self.fc_out = nn.Linear((enc_hid_dim * 2) + dec_hid_dim + emb_dim, output_dim)\n",
        "        \n",
        "        self.dropout = nn.Dropout(dropout)\n",
        "        \n",
        "    def forward(self, input, hidden, encoder_outputs):\n",
        "             \n",
        "        #input = [batch size]\n",
        "        #hidden = [batch size, dec hid dim]\n",
        "        #encoder_outputs = [src len, batch size, enc hid dim * 2]\n",
        "        \n",
        "        input = input.unsqueeze(0)\n",
        "        \n",
        "        #input = [1, batch size]\n",
        "        \n",
        "        embedded = self.dropout(self.embedding(input))\n",
        "        \n",
        "        #embedded = [1, batch size, emb dim]\n",
        "        \n",
        "        a = self.attention(hidden, encoder_outputs)\n",
        "                \n",
        "        #a = [batch size, src len]\n",
        "        \n",
        "        a = a.unsqueeze(1)\n",
        "        \n",
        "        #a = [batch size, 1, src len]\n",
        "        \n",
        "        encoder_outputs = encoder_outputs.permute(1, 0, 2)\n",
        "        \n",
        "        #encoder_outputs = [batch size, src len, enc hid dim * 2]\n",
        "        \n",
        "        weighted = torch.bmm(a, encoder_outputs)\n",
        "        \n",
        "        #weighted = [batch size, 1, enc hid dim * 2]\n",
        "        \n",
        "        weighted = weighted.permute(1, 0, 2)\n",
        "        \n",
        "        #weighted = [1, batch size, enc hid dim * 2]\n",
        "        \n",
        "        rnn_input = torch.cat((embedded, weighted), dim = 2)\n",
        "        \n",
        "        #rnn_input = [1, batch size, (enc hid dim * 2) + emb dim]\n",
        "            \n",
        "        output, hidden = self.rnn(rnn_input, hidden.unsqueeze(0))\n",
        "        \n",
        "        #output = [seq len, batch size, dec hid dim * n directions]\n",
        "        #hidden = [n layers * n directions, batch size, dec hid dim]\n",
        "        \n",
        "        #seq len, n layers and n directions will always be 1 in this decoder, therefore:\n",
        "        #output = [1, batch size, dec hid dim]\n",
        "        #hidden = [1, batch size, dec hid dim]\n",
        "        #this also means that output == hidden\n",
        "        assert (output == hidden).all()\n",
        "        \n",
        "        embedded = embedded.squeeze(0)\n",
        "        output = output.squeeze(0)\n",
        "        weighted = weighted.squeeze(0)\n",
        "        \n",
        "        prediction = self.fc_out(torch.cat((output, weighted, embedded), dim = 1))\n",
        "        \n",
        "        #prediction = [batch size, output dim]\n",
        "        \n",
        "        return prediction, hidden.squeeze(0)"
      ],
      "execution_count": null,
      "outputs": []
    },
    {
      "cell_type": "code",
      "metadata": {
        "id": "vou5EiQl5tX_"
      },
      "source": [
        "\n",
        "class Seq2Seq(nn.Module):\n",
        "    def __init__(self, encoder, decoder, device):\n",
        "        super().__init__()\n",
        "        \n",
        "        self.encoder = encoder\n",
        "        self.decoder = decoder\n",
        "        self.device = device\n",
        "        \n",
        "    def forward(self, src, trg, teacher_forcing_ratio = 0.5):\n",
        "        \n",
        "        #src = [src len, batch size]\n",
        "        #trg = [trg len, batch size]\n",
        "        #teacher_forcing_ratio is probability to use teacher forcing\n",
        "        #e.g. if teacher_forcing_ratio is 0.75 we use teacher forcing 75% of the time\n",
        "        \n",
        "        batch_size = src.shape[1]\n",
        "        trg_len = trg.shape[0]\n",
        "        trg_vocab_size = self.decoder.output_dim\n",
        "        \n",
        "        #tensor to store decoder outputs\n",
        "        outputs = torch.zeros(trg_len, batch_size, trg_vocab_size).to(self.device)\n",
        "        \n",
        "        #encoder_outputs is all hidden states of the input sequence, back and forwards\n",
        "        #hidden is the final forward and backward hidden states, passed through a linear layer\n",
        "        encoder_outputs, hidden = self.encoder(src)\n",
        "                \n",
        "        #first input to the decoder is the <sos> tokens\n",
        "        input = trg[0,:]\n",
        "        \n",
        "        for t in range(1, trg_len):\n",
        "            \n",
        "            #insert input token embedding, previous hidden state and all encoder hidden states\n",
        "            #receive output tensor (predictions) and new hidden state\n",
        "            output, hidden = self.decoder(input, hidden, encoder_outputs)\n",
        "            \n",
        "            #place predictions in a tensor holding predictions for each token\n",
        "            outputs[t] = output\n",
        "            \n",
        "            #decide if we are going to use teacher forcing or not\n",
        "            teacher_force = random.random() < teacher_forcing_ratio\n",
        "            \n",
        "            #get the highest predicted token from our predictions\n",
        "            top1 = output.argmax(1) \n",
        "            \n",
        "            #if teacher forcing, use actual next token as next input\n",
        "            #if not, use predicted token\n",
        "            input = trg[t] if teacher_force else top1\n",
        "\n",
        "        return outputs"
      ],
      "execution_count": null,
      "outputs": []
    },
    {
      "cell_type": "code",
      "metadata": {
        "id": "5nNFbb8F5tbW"
      },
      "source": [
        "\n",
        "\n",
        "INPUT_DIM = len(TEXT.vocab)\n",
        "OUTPUT_DIM = len(TEXT.vocab)\n",
        "ENC_EMB_DIM = 128\n",
        "DEC_EMB_DIM = 128\n",
        "ENC_HID_DIM = 512\n",
        "DEC_HID_DIM = 512\n",
        "ENC_DROPOUT = 0.5\n",
        "DEC_DROPOUT = 0.5\n",
        "\n",
        "attn = Attention(ENC_HID_DIM, DEC_HID_DIM)\n",
        "#enc = Encoder(INPUT_DIM, ENC_EMB_DIM, ENC_HID_DIM, ENC_DROPOUT)\n",
        "#dec = Decoder(OUTPUT_DIM, DEC_EMB_DIM, DEC_HID_DIM, DEC_DROPOUT)\n",
        "enc = Encoder(INPUT_DIM, ENC_EMB_DIM, ENC_HID_DIM, DEC_HID_DIM, ENC_DROPOUT)\n",
        "dec = Decoder(OUTPUT_DIM, DEC_EMB_DIM, ENC_HID_DIM, DEC_HID_DIM, DEC_DROPOUT, attn)\n",
        "\n",
        "device = torch.device('cuda' if torch.cuda.is_available() else 'cpu')\n",
        "\n",
        "model = Seq2Seq(enc, dec, device).to(device)\n",
        "\n"
      ],
      "execution_count": null,
      "outputs": []
    },
    {
      "cell_type": "code",
      "metadata": {
        "colab": {
          "base_uri": "https://localhost:8080/"
        },
        "id": "N8Fbg3cL5teS",
        "outputId": "10ebd8ce-eb55-40ee-d3f8-81d9c3f62cd1"
      },
      "source": [
        "def init_weights(m):\n",
        "    for name, param in m.named_parameters():\n",
        "        nn.init.normal_(param.data, mean=0, std=0.01)\n",
        "        \n",
        "model.apply(init_weights)"
      ],
      "execution_count": null,
      "outputs": [
        {
          "output_type": "execute_result",
          "data": {
            "text/plain": [
              "Seq2Seq(\n",
              "  (encoder): Encoder(\n",
              "    (embedding): Embedding(10004, 128)\n",
              "    (rnn): GRU(128, 512, bidirectional=True)\n",
              "    (fc): Linear(in_features=1024, out_features=512, bias=True)\n",
              "    (dropout): Dropout(p=0.5, inplace=False)\n",
              "  )\n",
              "  (decoder): Decoder(\n",
              "    (attention): Attention(\n",
              "      (attn): Linear(in_features=1536, out_features=512, bias=True)\n",
              "      (v): Linear(in_features=512, out_features=1, bias=False)\n",
              "    )\n",
              "    (embedding): Embedding(10004, 128)\n",
              "    (rnn): GRU(1152, 512)\n",
              "    (fc_out): Linear(in_features=1664, out_features=10004, bias=True)\n",
              "    (dropout): Dropout(p=0.5, inplace=False)\n",
              "  )\n",
              ")"
            ]
          },
          "metadata": {
            "tags": []
          },
          "execution_count": 61
        }
      ]
    },
    {
      "cell_type": "code",
      "metadata": {
        "colab": {
          "base_uri": "https://localhost:8080/"
        },
        "id": "x7poyyYc5tg_",
        "outputId": "08710f7d-7fe5-43e3-b415-e86c6b0cdb7a"
      },
      "source": [
        "def count_parameters(model):\n",
        "    return sum(p.numel() for p in model.parameters() if p.requires_grad)\n",
        "\n",
        "print(f'The model has {count_parameters(model):,} trainable parameters')"
      ],
      "execution_count": null,
      "outputs": [
        {
          "output_type": "stream",
          "text": [
            "The model has 25,061,140 trainable parameters\n"
          ],
          "name": "stdout"
        }
      ]
    },
    {
      "cell_type": "code",
      "metadata": {
        "id": "A60XGcDA5tkF"
      },
      "source": [
        "optimizer = optim.Adam(model.parameters())"
      ],
      "execution_count": null,
      "outputs": []
    },
    {
      "cell_type": "code",
      "metadata": {
        "id": "yIiPRWxk5tnX"
      },
      "source": [
        "\n",
        "\n",
        "TRG_PAD_IDX = TEXT.vocab.stoi[TEXT.pad_token]\n",
        "\n",
        "criterion = nn.CrossEntropyLoss(ignore_index = TRG_PAD_IDX)\n",
        "\n"
      ],
      "execution_count": null,
      "outputs": []
    },
    {
      "cell_type": "code",
      "metadata": {
        "id": "WmrH_CxR6BJl"
      },
      "source": [
        "def train(model, iterator, optimizer, criterion, clip):\n",
        "    \n",
        "    model.train()\n",
        "    \n",
        "    epoch_loss = 0\n",
        "    \n",
        "    for i, batch in enumerate(iterator):\n",
        "        \n",
        "        src = batch.question\n",
        "        trg = batch.nq_answer\n",
        "        \n",
        "        optimizer.zero_grad()\n",
        "        \n",
        "        output = model(src, trg)\n",
        "        \n",
        "        #trg = [trg len, batch size]\n",
        "        #output = [trg len, batch size, output dim]\n",
        "        \n",
        "        output_dim = output.shape[-1]\n",
        "        \n",
        "        output = output[1:].view(-1, output_dim)\n",
        "        trg = trg[1:].view(-1)\n",
        "        \n",
        "        #trg = [(trg len - 1) * batch size]\n",
        "        #output = [(trg len - 1) * batch size, output dim]\n",
        "        \n",
        "        loss = criterion(output, trg)\n",
        "        \n",
        "        loss.backward()\n",
        "        \n",
        "        torch.nn.utils.clip_grad_norm_(model.parameters(), clip)\n",
        "        \n",
        "        optimizer.step()\n",
        "        \n",
        "        epoch_loss += loss.item()\n",
        "        \n",
        "    return epoch_loss / len(iterator)"
      ],
      "execution_count": null,
      "outputs": []
    },
    {
      "cell_type": "code",
      "metadata": {
        "id": "bkTT2kjp6BM8"
      },
      "source": [
        "def evaluate(model, iterator, criterion):\n",
        "    \n",
        "    model.eval()\n",
        "    \n",
        "    epoch_loss = 0\n",
        "    \n",
        "    with torch.no_grad():\n",
        "    \n",
        "        for i, batch in enumerate(iterator):\n",
        "\n",
        "            src = batch.question\n",
        "            trg = batch.nq_answer\n",
        "\n",
        "            output = model(src, trg, 0) #turn off teacher forcing\n",
        "\n",
        "            #trg = [trg len, batch size]\n",
        "            #output = [trg len, batch size, output dim]\n",
        "\n",
        "            output_dim = output.shape[-1]\n",
        "            \n",
        "            output = output[1:].view(-1, output_dim)\n",
        "            trg = trg[1:].view(-1)\n",
        "\n",
        "            #trg = [(trg len - 1) * batch size]\n",
        "            #output = [(trg len - 1) * batch size, output dim]\n",
        "\n",
        "            loss = criterion(output, trg)\n",
        "\n",
        "            epoch_loss += loss.item()\n",
        "        \n",
        "    return epoch_loss / len(iterator)"
      ],
      "execution_count": null,
      "outputs": []
    },
    {
      "cell_type": "code",
      "metadata": {
        "id": "7A_MGt9Y6BP7"
      },
      "source": [
        "def epoch_time(start_time, end_time):\n",
        "    elapsed_time = end_time - start_time\n",
        "    elapsed_mins = int(elapsed_time / 60)\n",
        "    elapsed_secs = int(elapsed_time - (elapsed_mins * 60))\n",
        "    return elapsed_mins, elapsed_secs"
      ],
      "execution_count": null,
      "outputs": []
    },
    {
      "cell_type": "code",
      "metadata": {
        "colab": {
          "base_uri": "https://localhost:8080/"
        },
        "id": "tFwDKwEx6BS1",
        "outputId": "7199d691-0c86-47d0-89a2-7e4039a2c44a"
      },
      "source": [
        "N_EPOCHS = 10\n",
        "CLIP = 1\n",
        "\n",
        "best_valid_loss = float('inf')\n",
        "\n",
        "for epoch in range(N_EPOCHS):\n",
        "    \n",
        "    start_time = time.time()\n",
        "    \n",
        "    train_loss = train(model, train_iterator, optimizer, criterion, CLIP)\n",
        "    valid_loss = evaluate(model, valid_iterator, criterion)\n",
        "    \n",
        "    end_time = time.time()\n",
        "    \n",
        "    epoch_mins, epoch_secs = epoch_time(start_time, end_time)\n",
        "    \n",
        "    if valid_loss < best_valid_loss:\n",
        "        best_valid_loss = valid_loss\n",
        "        torch.save(model.state_dict(), 'tut2-model.pt')\n",
        "    \n",
        "    print(f'Epoch: {epoch+1:02} | Time: {epoch_mins}m {epoch_secs}s')\n",
        "    print(f'\\tTrain Loss: {train_loss:.3f} | Train PPL: {math.exp(train_loss):7.3f}')\n",
        "    print(f'\\t Val. Loss: {valid_loss:.3f} |  Val. PPL: {math.exp(valid_loss):7.3f}')"
      ],
      "execution_count": null,
      "outputs": [
        {
          "output_type": "stream",
          "text": [
            "Epoch: 01 | Time: 0m 33s\n",
            "\tTrain Loss: 4.375 | Train PPL:  79.475\n",
            "\t Val. Loss: 3.041 |  Val. PPL:  20.926\n",
            "Epoch: 02 | Time: 0m 34s\n",
            "\tTrain Loss: 3.145 | Train PPL:  23.214\n",
            "\t Val. Loss: 3.092 |  Val. PPL:  22.026\n",
            "Epoch: 03 | Time: 0m 35s\n",
            "\tTrain Loss: 3.017 | Train PPL:  20.432\n",
            "\t Val. Loss: 3.033 |  Val. PPL:  20.754\n",
            "Epoch: 04 | Time: 0m 33s\n",
            "\tTrain Loss: 2.887 | Train PPL:  17.947\n",
            "\t Val. Loss: 3.022 |  Val. PPL:  20.534\n",
            "Epoch: 05 | Time: 0m 34s\n",
            "\tTrain Loss: 2.693 | Train PPL:  14.777\n",
            "\t Val. Loss: 2.927 |  Val. PPL:  18.672\n",
            "Epoch: 06 | Time: 0m 34s\n",
            "\tTrain Loss: 2.543 | Train PPL:  12.715\n",
            "\t Val. Loss: 2.991 |  Val. PPL:  19.911\n",
            "Epoch: 07 | Time: 0m 34s\n",
            "\tTrain Loss: 2.451 | Train PPL:  11.600\n",
            "\t Val. Loss: 2.962 |  Val. PPL:  19.335\n",
            "Epoch: 08 | Time: 0m 34s\n",
            "\tTrain Loss: 2.357 | Train PPL:  10.555\n",
            "\t Val. Loss: 2.938 |  Val. PPL:  18.870\n",
            "Epoch: 09 | Time: 0m 34s\n",
            "\tTrain Loss: 2.232 | Train PPL:   9.316\n",
            "\t Val. Loss: 3.000 |  Val. PPL:  20.093\n",
            "Epoch: 10 | Time: 0m 33s\n",
            "\tTrain Loss: 2.138 | Train PPL:   8.479\n",
            "\t Val. Loss: 3.038 |  Val. PPL:  20.872\n"
          ],
          "name": "stdout"
        }
      ]
    },
    {
      "cell_type": "code",
      "metadata": {
        "id": "GabeuR_h6BV8"
      },
      "source": [
        ""
      ],
      "execution_count": null,
      "outputs": []
    }
  ]
}
